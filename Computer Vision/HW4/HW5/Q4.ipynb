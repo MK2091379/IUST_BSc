{
 "cells": [
  {
   "cell_type": "code",
   "execution_count": 11,
   "id": "05951d16",
   "metadata": {},
   "outputs": [
    {
     "data": {
      "text/plain": [
       "True"
      ]
     },
     "execution_count": 11,
     "metadata": {},
     "output_type": "execute_result"
    }
   ],
   "source": [
    "import cv2\n",
    "import numpy as np\n",
    "img = cv2.imread('4.jpg',0)\n",
    "equ = cv2.equalizeHist(img)\n",
    "cv2.imwrite('res.png',equ)"
   ]
  },
  {
   "cell_type": "code",
   "execution_count": 14,
   "id": "4af7c6f5",
   "metadata": {},
   "outputs": [],
   "source": [
    "img = cv2.imread(\"res.png\",1)\n",
    "\n",
    "hsv = cv2.cvtColor(img, cv2.COLOR_BGR2HSV)\n",
    "greenMask = cv2.inRange(hsv, (26, 10, 30), (97, 100, 255))\n",
    "\n",
    "hsv[:,:,1] = greenMask \n",
    "\n",
    "\n",
    "back = cv2.cvtColor(hsv, cv2.COLOR_HSV2BGR)\n",
    "\n",
    "cv2.imshow('test', back)\n",
    "cv2.waitKey(0)\n",
    "cv2.destroyAllWindows()"
   ]
  },
  {
   "cell_type": "code",
   "execution_count": null,
   "id": "bce1c046",
   "metadata": {},
   "outputs": [],
   "source": []
  },
  {
   "cell_type": "code",
   "execution_count": null,
   "id": "948f407b",
   "metadata": {},
   "outputs": [],
   "source": []
  }
 ],
 "metadata": {
  "kernelspec": {
   "display_name": "Python 3 (ipykernel)",
   "language": "python",
   "name": "python3"
  },
  "language_info": {
   "codemirror_mode": {
    "name": "ipython",
    "version": 3
   },
   "file_extension": ".py",
   "mimetype": "text/x-python",
   "name": "python",
   "nbconvert_exporter": "python",
   "pygments_lexer": "ipython3",
   "version": "3.11.0"
  }
 },
 "nbformat": 4,
 "nbformat_minor": 5
}
