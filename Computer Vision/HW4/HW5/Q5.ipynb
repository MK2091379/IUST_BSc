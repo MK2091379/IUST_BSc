{
 "cells": [
  {
   "cell_type": "code",
   "execution_count": 1,
   "id": "23de7c9c",
   "metadata": {},
   "outputs": [],
   "source": [
    "import cv2\n",
    "import numpy as np\n",
    "img = cv2.imread('5.jpg')\n",
    "id_kernel = np.array([[1/9, 1/9, 1/9],\n",
    "                    [1/9, 1/9, 1/9],\n",
    "                    [1/9, 1/9, 1/9]])\n",
    "flt_img = cv2.filter2D(src=img, ddepth=-1, kernel=id_kernel)\n",
    "cv2.imshow('Identity', flt_img)\n",
    "cv2.waitKey(0)\n",
    "cv2.destroyAllWindows()"
   ]
  },
  {
   "cell_type": "code",
   "execution_count": 2,
   "id": "698f8615",
   "metadata": {},
   "outputs": [],
   "source": [
    "hsv_img = cv2.cvtColor(img, cv2.COLOR_BGR2HSV)\n",
    "flt_img = cv2.filter2D(src=hsv_img, ddepth=-1, kernel=id_kernel)\n",
    "cv2.imshow('Identity', flt_img)\n",
    "cv2.waitKey(0)\n",
    "cv2.destroyAllWindows()"
   ]
  },
  {
   "cell_type": "code",
   "execution_count": null,
   "id": "bf91b54e",
   "metadata": {},
   "outputs": [],
   "source": []
  },
  {
   "cell_type": "code",
   "execution_count": null,
   "id": "d40e6aca",
   "metadata": {},
   "outputs": [],
   "source": []
  }
 ],
 "metadata": {
  "kernelspec": {
   "display_name": "Python 3 (ipykernel)",
   "language": "python",
   "name": "python3"
  },
  "language_info": {
   "codemirror_mode": {
    "name": "ipython",
    "version": 3
   },
   "file_extension": ".py",
   "mimetype": "text/x-python",
   "name": "python",
   "nbconvert_exporter": "python",
   "pygments_lexer": "ipython3",
   "version": "3.11.0"
  }
 },
 "nbformat": 4,
 "nbformat_minor": 5
}
