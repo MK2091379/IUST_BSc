{
 "cells": [
  {
   "cell_type": "code",
   "execution_count": 18,
   "id": "eb8ffdb6",
   "metadata": {},
   "outputs": [],
   "source": [
    "import cv2\n",
    "import numpy as np\n",
    "# Read the image as a grayscale image\n",
    "img = cv2.imread('horse.jpg', 0)\n",
    "# Threshold the image\n",
    "ret,img = cv2.threshold(img, 127, 255, 0)\n",
    "# Create an empty skeleton\n",
    "size = np.size(img)\n",
    "skel = np.zeros(img.shape, np.uint8)\n",
    "# Get a Cross Shaped Kernel\n",
    "element = cv2.getStructuringElement(cv2.MORPH_CROSS, (3,3))\n",
    "while True:\n",
    "    #Open the image\n",
    "    open = cv2.morphologyEx(img, cv2.MORPH_OPEN, element)\n",
    "    #StSubstract open from the original image\n",
    "    temp = cv2.subtract(img, open)\n",
    "    #Erode the original image and refine the skeleton\n",
    "    eroded = cv2.erode(img, element)\n",
    "    skel = cv2.bitwise_or(skel,temp)\n",
    "    img = eroded.copy()\n",
    "    #If there are no white pixels left ie.. the image has been completely eroded, quit the loop\n",
    "    if cv2.countNonZero(img)==0:\n",
    "        break\n",
    "cv2.imshow(\"Skeleton\",skel)\n",
    "cv2.waitKey(0)\n",
    "cv2.destroyAllWindows()"
   ]
  },
  {
   "cell_type": "code",
   "execution_count": null,
   "id": "69586fd2",
   "metadata": {},
   "outputs": [],
   "source": []
  },
  {
   "cell_type": "code",
   "execution_count": null,
   "id": "5aaef90c",
   "metadata": {},
   "outputs": [],
   "source": []
  }
 ],
 "metadata": {
  "kernelspec": {
   "display_name": "Python 3 (ipykernel)",
   "language": "python",
   "name": "python3"
  },
  "language_info": {
   "codemirror_mode": {
    "name": "ipython",
    "version": 3
   },
   "file_extension": ".py",
   "mimetype": "text/x-python",
   "name": "python",
   "nbconvert_exporter": "python",
   "pygments_lexer": "ipython3",
   "version": "3.9.6"
  }
 },
 "nbformat": 4,
 "nbformat_minor": 5
}
