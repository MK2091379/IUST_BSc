{
 "cells": [
  {
   "cell_type": "code",
   "execution_count": 31,
   "id": "2d9f6336",
   "metadata": {},
   "outputs": [
    {
     "data": {
      "text/plain": [
       "-1"
      ]
     },
     "execution_count": 31,
     "metadata": {},
     "output_type": "execute_result"
    }
   ],
   "source": [
    "import cv2\n",
    "import numpy as np\n",
    "# Reading the input image\n",
    "img = cv2.imread('Ferdowsi.jpg', 0)\n",
    "# Taking a matrix of size 5 as the kernel\n",
    "kernel = np.ones((11, 11), np.uint8)\n",
    "# The first parameter is the original image, kernel is the matrix with which image is\n",
    "# convolved and third parameter is the number\n",
    "# of iterations, which will determine how much\n",
    "# you want to erode\n",
    "img_erosion = cv2.erode(img, kernel) \n",
    "cv2.imshow('Input', img)\n",
    "cv2.imshow('Erosion', img-img_erosion) \n",
    "cv2.waitKey(0)"
   ]
  },
  {
   "cell_type": "code",
   "execution_count": null,
   "id": "a52c897d",
   "metadata": {},
   "outputs": [],
   "source": []
  }
 ],
 "metadata": {
  "kernelspec": {
   "display_name": "Python 3 (ipykernel)",
   "language": "python",
   "name": "python3"
  },
  "language_info": {
   "codemirror_mode": {
    "name": "ipython",
    "version": 3
   },
   "file_extension": ".py",
   "mimetype": "text/x-python",
   "name": "python",
   "nbconvert_exporter": "python",
   "pygments_lexer": "ipython3",
   "version": "3.9.6"
  }
 },
 "nbformat": 4,
 "nbformat_minor": 5
}
