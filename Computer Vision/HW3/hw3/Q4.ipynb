{
 "cells": [
  {
   "cell_type": "code",
   "execution_count": 13,
   "id": "de153685",
   "metadata": {},
   "outputs": [],
   "source": [
    "import cv2\n",
    " \n",
    "img = cv2.imread(\"3.jpg\")\n",
    "img = cv2.resize(img, (680, 520),\n",
    "                 interpolation=cv2.INTER_CUBIC)\n",
    " \n",
    "# subtract the original image with the blurred image\n",
    "# after subtracting add 127 to the total result\n",
    "hpf = img - cv2.GaussianBlur(img, (21, 21), 3)+127\n",
    " \n",
    "# display both original image and filtered image\n",
    "cv2.imshow(\"Original\", img)\n",
    "cv2.imshow(\"High Passed Filter\", hpf)\n",
    " \n",
    "# cv2.waitkey is used to display\n",
    "# the image continuously\n",
    "# if you provide 1000 instead of 0 then\n",
    "# image will close in 1sec\n",
    "# you pass in milli second\n",
    "cv2.waitKey(0)\n",
    "cv2.destroyAllWindows()"
   ]
  },
  {
   "cell_type": "code",
   "execution_count": null,
   "id": "1441f3d9",
   "metadata": {},
   "outputs": [],
   "source": []
  }
 ],
 "metadata": {
  "kernelspec": {
   "display_name": "Python 3 (ipykernel)",
   "language": "python",
   "name": "python3"
  },
  "language_info": {
   "codemirror_mode": {
    "name": "ipython",
    "version": 3
   },
   "file_extension": ".py",
   "mimetype": "text/x-python",
   "name": "python",
   "nbconvert_exporter": "python",
   "pygments_lexer": "ipython3",
   "version": "3.11.0"
  }
 },
 "nbformat": 4,
 "nbformat_minor": 5
}
