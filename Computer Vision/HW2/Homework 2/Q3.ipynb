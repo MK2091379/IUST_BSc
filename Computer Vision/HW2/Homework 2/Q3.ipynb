{
 "cells": [
  {
   "cell_type": "code",
   "execution_count": 2,
   "metadata": {
    "id": "TIWWDlxhl02B"
   },
   "outputs": [],
   "source": [
    "import cv2\n",
    "import numpy as np\n",
    "from matplotlib import pyplot as plt\n",
    "import scipy.stats as st\n",
    "from PIL import Image"
   ]
  },
  {
   "cell_type": "markdown",
   "metadata": {
    "id": "piG_r-0eJ1Vw"
   },
   "source": [
    "# Computer Vision Hw 2"
   ]
  },
  {
   "cell_type": "markdown",
   "metadata": {
    "id": "IZa-VCMRbfO8"
   },
   "source": [
    "## Q3"
   ]
  },
  {
   "cell_type": "markdown",
   "metadata": {
    "id": "XisYVyoMIxX4"
   },
   "source": [
    "Q3_Part1"
   ]
  },
  {
   "cell_type": "code",
   "execution_count": 3,
   "metadata": {
    "id": "BdvQkENkIXMo"
   },
   "outputs": [],
   "source": [
    "def processImage(image): \n",
    "  image = cv2.imread(image) \n",
    "  image = cv2.cvtColor(src=image, code=cv2.COLOR_BGR2GRAY) \n",
    "  return image\n",
    "def convolve2D(image, kernel, padding=0, strides=1):\n",
    "    kernel = np.flipud(np.fliplr(kernel))\n",
    "    xKernShape = kernel.shape[0]\n",
    "    yKernShape = kernel.shape[1]\n",
    "    xImgShape = image.shape[0]\n",
    "    yImgShape = image.shape[1]\n",
    "    xOutput = int(((xImgShape - xKernShape + 2 * padding) / strides) + 1)\n",
    "    yOutput = int(((yImgShape - yKernShape + 2 * padding) / strides) + 1)\n",
    "    output = np.zeros((xOutput, yOutput))\n",
    "    if padding != 0:\n",
    "        imagePadded = np.zeros((image.shape[0] + padding*2, image.shape[1] + padding*2))\n",
    "        imagePadded[int(padding):int(-1 * padding), int(padding):int(-1 * padding)] = image\n",
    "        print(imagePadded)\n",
    "    else:\n",
    "        imagePadded = image\n",
    "    for y in range(image.shape[1]):\n",
    "        if y > image.shape[1] - yKernShape:\n",
    "            break\n",
    "        if y % strides == 0:\n",
    "            for x in range(image.shape[0]):\n",
    "                if x > image.shape[0] - xKernShape:\n",
    "                    break\n",
    "                try:\n",
    "                    if x % strides == 0:\n",
    "                        output[x, y] = (kernel * imagePadded[x: x + xKernShape, y: y + yKernShape]).sum()\n",
    "                except:\n",
    "                    break\n",
    "    return output"
   ]
  },
  {
   "cell_type": "markdown",
   "metadata": {
    "id": "m7edKNmtI0eu"
   },
   "source": [
    "Q3_Part2"
   ]
  },
  {
   "cell_type": "code",
   "execution_count": 4,
   "metadata": {
    "id": "yWo87hIbI2gW"
   },
   "outputs": [],
   "source": [
    "def gaussian(kernel_size=3, sigma=2):\n",
    "    ax = np.linspace(-(kernel_size - 1) / 2., (kernel_size - 1) / 2., kernel_size)\n",
    "    xx, yy = np.meshgrid(ax, ax)\n",
    "    kernel = np.exp(-0.5 * (np.square(xx) + np.square(yy)) / np.square(sigma))\n",
    "    return kernel / np.sum(kernel)"
   ]
  },
  {
   "cell_type": "markdown",
   "metadata": {
    "id": "zt7DonopI424"
   },
   "source": [
    "Q3_Part3"
   ]
  },
  {
   "cell_type": "code",
   "execution_count": 5,
   "metadata": {
    "id": "Ab5PFgghI_FP"
   },
   "outputs": [],
   "source": [
    "def median(img, kernel_size):\n",
    "    temp = []\n",
    "    indexer = kernel_size // 2\n",
    "    data_final = []\n",
    "    data_final = np.zeros((len(img),len(img[0])))\n",
    "    for i in range(len(img)):\n",
    "\n",
    "        for j in range(len(img[0])):\n",
    "\n",
    "            for z in range(kernel_size):\n",
    "                if i + z - indexer < 0 or i + z - indexer > len(img) - 1:\n",
    "                    for c in range(kernel_size):\n",
    "                        temp.append(0)\n",
    "                else:\n",
    "                    if j + z - indexer < 0 or j + indexer > len(img[0]) - 1:\n",
    "                        temp.append(0)\n",
    "                    else:\n",
    "                        for k in range(kernel_size):\n",
    "                            temp.append(img[i + z - indexer][j + k - indexer])\n",
    "\n",
    "            temp.sort()\n",
    "            data_final[i][j] = temp[len(temp) // 2]\n",
    "            temp = []\n",
    "    return data_final"
   ]
  },
  {
   "cell_type": "markdown",
   "metadata": {
    "id": "SDyMYtFeI_9e"
   },
   "source": [
    "Q3_Part4"
   ]
  },
  {
   "cell_type": "code",
   "execution_count": 6,
   "metadata": {
    "id": "w_vSmwzfJB2k"
   },
   "outputs": [
    {
     "data": {
      "text/plain": [
       "True"
      ]
     },
     "execution_count": 6,
     "metadata": {},
     "output_type": "execute_result"
    }
   ],
   "source": [
    "image = processImage('gaussian.png')\n",
    "kernel = gaussian(3,2)\n",
    "output = convolve2D(image, kernel)\n",
    "cv2.imwrite('2DConvolved.jpg', output)"
   ]
  },
  {
   "cell_type": "markdown",
   "metadata": {
    "id": "TgsX39Q2JCYu"
   },
   "source": [
    "Q3_Part5"
   ]
  },
  {
   "cell_type": "code",
   "execution_count": 7,
   "metadata": {
    "id": "Nv-rAYLSJD4q"
   },
   "outputs": [],
   "source": [
    "img = cv2.imread('median.bmp',cv2.IMREAD_GRAYSCALE)\n",
    "removed_noise = median(img,5)\n",
    "img = Image.fromarray(removed_noise)\n",
    "img.show()"
   ]
  },
  {
   "cell_type": "markdown",
   "metadata": {
    "id": "5BbzmudoJEi3"
   },
   "source": [
    "Q3_Part6"
   ]
  },
  {
   "cell_type": "code",
   "execution_count": 8,
   "metadata": {
    "id": "JRfT6FQHJGTD"
   },
   "outputs": [
    {
     "data": {
      "text/plain": [
       "True"
      ]
     },
     "execution_count": 8,
     "metadata": {},
     "output_type": "execute_result"
    }
   ],
   "source": [
    "image = processImage('sharp.png')\n",
    "kernel = np.array([[-1, -1, -1], [-1, 9, -1], [-1, -1, -1]])\n",
    "output = convolve2D(image, kernel)\n",
    "cv2.imwrite('2DConvolved2.jpg', output)"
   ]
  },
  {
   "cell_type": "code",
   "execution_count": null,
   "metadata": {},
   "outputs": [],
   "source": []
  }
 ],
 "metadata": {
  "colab": {
   "collapsed_sections": [],
   "provenance": []
  },
  "kernelspec": {
   "display_name": "Python 3 (ipykernel)",
   "language": "python",
   "name": "python3"
  },
  "language_info": {
   "codemirror_mode": {
    "name": "ipython",
    "version": 3
   },
   "file_extension": ".py",
   "mimetype": "text/x-python",
   "name": "python",
   "nbconvert_exporter": "python",
   "pygments_lexer": "ipython3",
   "version": "3.9.5"
  }
 },
 "nbformat": 4,
 "nbformat_minor": 1
}
