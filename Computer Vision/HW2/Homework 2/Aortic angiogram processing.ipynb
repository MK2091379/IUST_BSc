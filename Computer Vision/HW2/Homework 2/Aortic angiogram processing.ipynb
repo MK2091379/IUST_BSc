{
 "cells": [
  {
   "cell_type": "code",
   "execution_count": null,
   "id": "f2b0d505",
   "metadata": {},
   "outputs": [],
   "source": [
    "import cv2\n",
    "import numpy as np\n",
    "# Load the image\n",
    "img = cv2.imread('Aortic angiogram.jpg',cv2.IMREAD_GRAYSCALE)\n",
    "# Find width and height of image\n",
    "row, column = img.shape\n",
    "# Create an zeros array to store the sliced image\n",
    "img1 = np.zeros((row,column),dtype = 'uint8')\n",
    "\n",
    "# Specify the min and max range\n",
    "min_range = 75\n",
    "max_range = 128\n",
    "\n",
    "# Loop over the input image and if pixel value lies in desired range set it to 255 otherwise set it to 0.\n",
    "for i in range(row):\n",
    "    for j in range(column):\n",
    "        if img[i,j]>min_range and img[i,j]<max_range:\n",
    "            img1[i,j] = 200\n",
    "        else:\n",
    "            continue\n",
    "# Display the image\n",
    "cv2.imshow('sliced image', img1)\n",
    "cv2.waitKey(0)"
   ]
  },
  {
   "cell_type": "code",
   "execution_count": 6,
   "id": "975d6cbe",
   "metadata": {},
   "outputs": [
    {
     "data": {
      "text/plain": [
       "-1"
      ]
     },
     "execution_count": 6,
     "metadata": {},
     "output_type": "execute_result"
    }
   ],
   "source": [
    "# Loop over the input image and if pixel value lies in desired range set it to 255 otherwise set it to 0.\n",
    "for i in range(row):\n",
    "    for j in range(column):\n",
    "        if img[i,j]>min_range and img[i,j]<max_range:\n",
    "            img1[i,j] = 30\n",
    "        else:\n",
    "            continue\n",
    "# Display the image\n",
    "cv2.imshow('sliced image', img1)\n",
    "cv2.waitKey(0)"
   ]
  },
  {
   "cell_type": "code",
   "execution_count": null,
   "id": "f5df622c",
   "metadata": {},
   "outputs": [],
   "source": []
  }
 ],
 "metadata": {
  "kernelspec": {
   "display_name": "Python 3 (ipykernel)",
   "language": "python",
   "name": "python3"
  },
  "language_info": {
   "codemirror_mode": {
    "name": "ipython",
    "version": 3
   },
   "file_extension": ".py",
   "mimetype": "text/x-python",
   "name": "python",
   "nbconvert_exporter": "python",
   "pygments_lexer": "ipython3",
   "version": "3.9.5"
  }
 },
 "nbformat": 4,
 "nbformat_minor": 5
}
