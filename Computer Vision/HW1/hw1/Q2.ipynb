{
 "cells": [
  {
   "cell_type": "code",
   "execution_count": 1,
   "id": "f8a350b4",
   "metadata": {},
   "outputs": [],
   "source": [
    "import cv2\n",
    "import numpy as np\n",
    "img = cv2.imread('Img1.jpg', 0)\n",
    "ret, bw_img = cv2.threshold(img, 127, 255, cv2.THRESH_BINARY)\n",
    "#bw = cv2.threshold(img, 127, 255, cv2.THRESH_BINARY)\n",
    "#cv2.imshow(\"Binary\", bw_img)\n",
    "#cv2.waitKey(0)\n",
    "#cv2.destroyAllWindows()\n",
    "#img.shape"
   ]
  },
  {
   "cell_type": "code",
   "execution_count": null,
   "id": "f2479b00",
   "metadata": {},
   "outputs": [],
   "source": [
    "kernel = np.ones((5,5),np.uint8)\n",
    "closing = cv2.morphologyEx(bw_img,cv2.MORPH_CLOSE,kernel)\n",
    "kernel = cv2.getStructuringElement(cv2.MORPH_ELLIPSE,(5,5))\n",
    "erosion1 = cv2.erode(closing,kernel,iterations=1)\n",
    "#erosion2 = cv2.erode(img,kernel,iterations=1)\n",
    "dilation = cv2.dilate(closing,kernel,iterations=1)\n",
    "#innerboundary\n",
    "boundary_img1 = closing-erosion1\n",
    "#boundary_img2 = closing-erosion2\n",
    "#outerboundary\n",
    "boundary_img3 = dilation-closing\n",
    "cv2.imshow('Original',img)\n",
    "cv2.imshow(\"Binary\", bw_img)\n",
    "cv2.imshow(\"innerboundary_img1\", boundary_img1)\n",
    "#cv2.imshow(\"boundary_img2\", boundary_img2)\n",
    "cv2.imshow(\"outerboundary_img3\", boundary_img3)\n",
    "cv2.waitKey(0)\n",
    "cv2.destroyAllWindows()"
   ]
  },
  {
   "cell_type": "code",
   "execution_count": null,
   "id": "50dd85b1",
   "metadata": {},
   "outputs": [],
   "source": []
  }
 ],
 "metadata": {
  "kernelspec": {
   "display_name": "Python 3 (ipykernel)",
   "language": "python",
   "name": "python3"
  },
  "language_info": {
   "codemirror_mode": {
    "name": "ipython",
    "version": 3
   },
   "file_extension": ".py",
   "mimetype": "text/x-python",
   "name": "python",
   "nbconvert_exporter": "python",
   "pygments_lexer": "ipython3",
   "version": "3.10.2"
  }
 },
 "nbformat": 4,
 "nbformat_minor": 5
}
