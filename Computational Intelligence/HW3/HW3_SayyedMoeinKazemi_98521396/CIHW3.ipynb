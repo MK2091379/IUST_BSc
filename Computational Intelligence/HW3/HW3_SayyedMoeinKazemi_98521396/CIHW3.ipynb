{
  "nbformat": 4,
  "nbformat_minor": 0,
  "metadata": {
    "colab": {
      "provenance": []
    },
    "kernelspec": {
      "name": "python3",
      "display_name": "Python 3"
    },
    "language_info": {
      "name": "python"
    }
  },
  "cells": [
    {
      "cell_type": "markdown",
      "metadata": {
        "id": "DXp0H8amHxU5"
      },
      "source": [
        "# Q1"
      ]
    },
    {
      "cell_type": "code",
      "metadata": {
        "id": "4Gb1lBbIH0ln",
        "colab": {
          "base_uri": "https://localhost:8080/"
        },
        "outputId": "62c7d6fc-cd34-4339-86b8-42855324055a"
      },
      "source": [
        "import numpy as np\n",
        "import matplotlib.pyplot as plt\n",
        "\n",
        "\n",
        "class Hopfield_Class:\n",
        "    def __init__(self, dim):\n",
        "        self.weights = np.zeros((dim, dim))\n",
        "\n",
        "    def Check(self, inp):\n",
        "        inp = np.array(inp)\n",
        "        inp_sign = np.sign(np.dot(self.weights, inp))\n",
        "\n",
        "        if ((inp_sign == inp).all()):\n",
        "            print(inp, \"is stable\")\n",
        "        else:\n",
        "            print(inp, \"is not stable, The closest saved stable data  is: \", inp_sign)\n",
        "\n",
        "    def Store(self, inp_list):\n",
        "\n",
        "        inp_list = np.array(inp_list)\n",
        "        new_weights = inp_list * inp_list.reshape(-1, 1)\n",
        "        np.fill_diagonal(new_weights, 0)\n",
        "        self.weights += new_weights\n",
        "        print(\"Weights after being updated by--> \", inp_list, \"is changed to --> :\\n\", self.weights)\n",
        "\n",
        "\n",
        "if __name__ == '__main__':\n",
        "    ####part 1\n",
        "\n",
        "    hf = Hopfield_Class(8)\n",
        "    hf.Store([-1, -1, 1, -1, 1, -1, -1, 1])\n",
        "    hf.Store([-1, -1, -1, -1, -1, 1, -1, -1])\n",
        "    hf.Store([-1, 1, 1, -1, -1, 1, -1, 1])\n",
        "    print(\"***part 1 ended***\")\n",
        "\n",
        "    ####part 2\n",
        "\n",
        "    hf.Check([-1, -1, 1, -1, 1, -1, -1, 1])\n",
        "    hf.Check([-1, -1, -1, -1, -1, 1, -1, -1])\n",
        "    hf.Check([-1, 1, 1, -1, -1, 1, -1, 1])\n",
        "    print(\"***part 2 ended***\")\n",
        "\n",
        "    ####part 3\n",
        "\n",
        "    hf.Check([1, -1, 1, -1, 1, -1, -1, 1])\n",
        "    hf.Check([1, 1, -1, -1, -1, 1, -1, -1])\n",
        "    hf.Check([1, 1, 1, -1, 1, 1, -1, 1])\n",
        "    print(\"***part 3 ended***\")"
      ],
      "execution_count": 2,
      "outputs": [
        {
          "output_type": "stream",
          "name": "stdout",
          "text": [
            "Weights after being updated by-->  [-1 -1  1 -1  1 -1 -1  1] is changed to --> :\n",
            " [[ 0.  1. -1.  1. -1.  1.  1. -1.]\n",
            " [ 1.  0. -1.  1. -1.  1.  1. -1.]\n",
            " [-1. -1.  0. -1.  1. -1. -1.  1.]\n",
            " [ 1.  1. -1.  0. -1.  1.  1. -1.]\n",
            " [-1. -1.  1. -1.  0. -1. -1.  1.]\n",
            " [ 1.  1. -1.  1. -1.  0.  1. -1.]\n",
            " [ 1.  1. -1.  1. -1.  1.  0. -1.]\n",
            " [-1. -1.  1. -1.  1. -1. -1.  0.]]\n",
            "Weights after being updated by-->  [-1 -1 -1 -1 -1  1 -1 -1] is changed to --> :\n",
            " [[ 0.  2.  0.  2.  0.  0.  2.  0.]\n",
            " [ 2.  0.  0.  2.  0.  0.  2.  0.]\n",
            " [ 0.  0.  0.  0.  2. -2.  0.  2.]\n",
            " [ 2.  2.  0.  0.  0.  0.  2.  0.]\n",
            " [ 0.  0.  2.  0.  0. -2.  0.  2.]\n",
            " [ 0.  0. -2.  0. -2.  0.  0. -2.]\n",
            " [ 2.  2.  0.  2.  0.  0.  0.  0.]\n",
            " [ 0.  0.  2.  0.  2. -2.  0.  0.]]\n",
            "Weights after being updated by-->  [-1  1  1 -1 -1  1 -1  1] is changed to --> :\n",
            " [[ 0.  1. -1.  3.  1. -1.  3. -1.]\n",
            " [ 1.  0.  1.  1. -1.  1.  1.  1.]\n",
            " [-1.  1.  0. -1.  1. -1. -1.  3.]\n",
            " [ 3.  1. -1.  0.  1. -1.  3. -1.]\n",
            " [ 1. -1.  1.  1.  0. -3.  1.  1.]\n",
            " [-1.  1. -1. -1. -3.  0. -1. -1.]\n",
            " [ 3.  1. -1.  3.  1. -1.  0. -1.]\n",
            " [-1.  1.  3. -1.  1. -1. -1.  0.]]\n",
            "***part 1 ended***\n",
            "[-1 -1  1 -1  1 -1 -1  1] is stable\n",
            "[-1 -1 -1 -1 -1  1 -1 -1] is stable\n",
            "[-1  1  1 -1 -1  1 -1  1] is stable\n",
            "***part 2 ended***\n",
            "[ 1 -1  1 -1  1 -1 -1  1] is not stable, The closest saved stable data  is:  [-1. -1.  1. -1.  1. -1. -1.  1.]\n",
            "[ 1  1 -1 -1 -1  1 -1 -1] is not stable, The closest saved stable data  is:  [-1. -1. -1.  1. -1.  1.  1. -1.]\n",
            "[ 1  1  1 -1  1  1 -1  1] is not stable, The closest saved stable data  is:  [-1.  1.  1. -1. -1. -1. -1.  1.]\n",
            "***part 3 ended***\n"
          ]
        }
      ]
    }
  ]
}